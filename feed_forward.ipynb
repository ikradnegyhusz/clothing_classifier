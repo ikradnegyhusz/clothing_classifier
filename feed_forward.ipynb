{
 "cells": [
  {
   "cell_type": "code",
   "execution_count": 2,
   "metadata": {},
   "outputs": [],
   "source": [
    "import numpy as np\n",
    "import pandas as pd\n",
    "import math\n"
   ]
  },
  {
   "cell_type": "code",
   "execution_count": 3,
   "metadata": {},
   "outputs": [
    {
     "name": "stdout",
     "output_type": "stream",
     "text": [
      "(10000, 784) (10000,)\n"
     ]
    }
   ],
   "source": [
    "train = np.load('./dt_training/fashion_train.npy')\n",
    "\n",
    "train_test = train[:, : -1]\n",
    "y = train[:,-1]\n",
    "\n",
    "print(train_test.shape, y.shape)"
   ]
  },
  {
   "cell_type": "code",
   "execution_count": 4,
   "metadata": {},
   "outputs": [],
   "source": [
    "\n",
    "\n",
    "\n",
    "def input_layer(X_train, y_train):\n",
    "    n_feartures = X_train.shape[1]\n",
    "    output_nodes = len(set(y_train))\n",
    "    len_of_X_train = len(X_train)\n",
    "    return n_feartures, output_nodes, len_of_X_train\n",
    "\n",
    "\n",
    "def hidden_layer(X, n_feartures, nunbers_of_nodes_hidden, len_of_X_train):\n",
    "    #first hidden layer\n",
    "\n",
    "    W = np.random.randn(n_feartures, nunbers_of_nodes_hidden)\n",
    "\n",
    "    b = np.random.randn(len_of_X_train, nunbers_of_nodes_hidden)\n",
    "\n",
    "    z = X@W+b\n",
    "\n",
    "    a = np.maximum(0, z)\n",
    "\n",
    "    return a\n",
    "\n",
    "\n",
    "#output layer\n",
    "def output_layer(a, output_nodes, len_of_X_train):\n",
    "\n",
    "    W = np.random.randn(a.shape[1], output_nodes)\n",
    "\n",
    "    b = np.random.randn(len_of_X_train, output_nodes)\n",
    "\n",
    "    z = a@W+b\n",
    "\n",
    "    softmax = np.exp(z - np.max(z))/np.sum(np.exp(z - np.max(z)))\n",
    "    preds = np.argmax(softmax, axis=1)\n",
    "\n",
    "    return print(f'pred: {np.argmax(softmax, axis=1)}, shape: {softmax.shape}'), preds\n",
    "\n"
   ]
  },
  {
   "cell_type": "code",
   "execution_count": 27,
   "metadata": {},
   "outputs": [
    {
     "name": "stdout",
     "output_type": "stream",
     "text": [
      "pred: [0 0 0 ... 0 0 0], shape: (10000, 5)\n"
     ]
    },
    {
     "data": {
      "text/plain": [
       "array([0, 4])"
      ]
     },
     "execution_count": 27,
     "metadata": {},
     "output_type": "execute_result"
    }
   ],
   "source": [
    "X = train_test\n",
    "\n",
    "n_feartures, output_nodes, len_of_X_train = input_layer(X, y)\n",
    "\n",
    "a = hidden_layer(X, n_feartures, nunbers_of_nodes_hidden=40, len_of_X_train=len_of_X_train)\n",
    "\n",
    "preds = output_layer(a, output_nodes, len_of_X_train)\n",
    "\n",
    "np.unique(preds[1])"
   ]
  }
 ],
 "metadata": {
  "kernelspec": {
   "display_name": "my_project_env",
   "language": "python",
   "name": "python3"
  },
  "language_info": {
   "codemirror_mode": {
    "name": "ipython",
    "version": 3
   },
   "file_extension": ".py",
   "mimetype": "text/x-python",
   "name": "python",
   "nbconvert_exporter": "python",
   "pygments_lexer": "ipython3",
   "version": "3.11.10"
  }
 },
 "nbformat": 4,
 "nbformat_minor": 2
}
