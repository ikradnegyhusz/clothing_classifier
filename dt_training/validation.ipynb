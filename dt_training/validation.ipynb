{
 "cells": [
  {
   "cell_type": "code",
   "execution_count": 1,
   "metadata": {},
   "outputs": [],
   "source": [
    "import numpy as np\n",
    "import sklearn.metrics as metrics\n",
    "import pickle\n",
    "from sklearn.tree import DecisionTreeClassifier"
   ]
  },
  {
   "cell_type": "code",
   "execution_count": 2,
   "metadata": {},
   "outputs": [
    {
     "name": "stdout",
     "output_type": "stream",
     "text": [
      "0.736\n",
      "0.736\n"
     ]
    }
   ],
   "source": [
    "preds=pickle.load(open(\"preds_on_y_val.pkl\",\"rb\"))\n",
    "X_val = pickle.load(open(\"X_val.pkl\",\"rb\"))\n",
    "y_val = pickle.load(open(\"y_val.pkl\",\"rb\"))\n",
    "print(metrics.accuracy_score(y_val,preds))\n",
    "\n",
    "X_train = pickle.load(open(\"X_train.pkl\",\"rb\"))\n",
    "y_train = pickle.load(open(\"y_train.pkl\",\"rb\"))\n",
    "\n",
    "model = DecisionTreeClassifier(max_depth=3,min_samples_split=2,criterion='gini')\n",
    "model.fit(X_train,y_train)\n",
    "sklearn_pred = model.predict(X_val)\n",
    "print(metrics.accuracy_score(y_val,sklearn_pred))\n",
    "\n"
   ]
  },
  {
   "cell_type": "code",
   "execution_count": 3,
   "metadata": {},
   "outputs": [
    {
     "data": {
      "text/plain": [
       "1.0"
      ]
     },
     "execution_count": 3,
     "metadata": {},
     "output_type": "execute_result"
    }
   ],
   "source": [
    "sum(preds == sklearn_pred)/len(sklearn_pred)"
   ]
  }
 ],
 "metadata": {
  "kernelspec": {
   "display_name": "Python 3",
   "language": "python",
   "name": "python3"
  },
  "language_info": {
   "codemirror_mode": {
    "name": "ipython",
    "version": 3
   },
   "file_extension": ".py",
   "mimetype": "text/x-python",
   "name": "python",
   "nbconvert_exporter": "python",
   "pygments_lexer": "ipython3",
   "version": "3.11.4"
  }
 },
 "nbformat": 4,
 "nbformat_minor": 2
}
