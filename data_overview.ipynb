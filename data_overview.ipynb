{
 "cells": [
  {
   "cell_type": "code",
   "execution_count": 1,
   "metadata": {},
   "outputs": [],
   "source": [
    "import pandas as pd\n",
    "import numpy as np"
   ]
  },
  {
   "cell_type": "code",
   "execution_count": 2,
   "metadata": {},
   "outputs": [],
   "source": [
    "train = np.load(\"data/fashion_train.npy\")\n",
    "test = np.load(\"data/fashion_test.npy\")"
   ]
  },
  {
   "cell_type": "markdown",
   "metadata": {},
   "source": [
    " Objectives\n",
    "\n",
    "1. Make a table of class distribution\n",
    "2. Compute basic statistics of the data"
   ]
  },
  {
   "cell_type": "code",
   "execution_count": 8,
   "metadata": {},
   "outputs": [],
   "source": [
    "def get_classcounts(data):\n",
    "    classcounts=np.bincount(data[:,-1])\n",
    "    label_classcounts={\n",
    "        \"T-shirt\":classcounts[0],\n",
    "        \"Trouser\":classcounts[1],\n",
    "        \"Pullover\":classcounts[2],\n",
    "        \"Dress\":classcounts[3],\n",
    "        \"Shirt\":classcounts[4]\n",
    "    }\n",
    "    return label_classcounts"
   ]
  },
  {
   "cell_type": "code",
   "execution_count": 9,
   "metadata": {},
   "outputs": [],
   "source": [
    "train_classcounts=get_classcounts(train)\n",
    "test_classcounts=get_classcounts(test)"
   ]
  },
  {
   "cell_type": "code",
   "execution_count": 10,
   "metadata": {},
   "outputs": [
    {
     "data": {
      "text/plain": [
       "{'T-shirt': 2033,\n",
       " 'Trouser': 1947,\n",
       " 'Pullover': 2001,\n",
       " 'Dress': 2005,\n",
       " 'Shirt': 2014}"
      ]
     },
     "execution_count": 10,
     "metadata": {},
     "output_type": "execute_result"
    }
   ],
   "source": [
    "train_classcounts"
   ]
  },
  {
   "cell_type": "code",
   "execution_count": 11,
   "metadata": {},
   "outputs": [
    {
     "data": {
      "text/plain": [
       "{'T-shirt': 1000,\n",
       " 'Trouser': 1000,\n",
       " 'Pullover': 1000,\n",
       " 'Dress': 1000,\n",
       " 'Shirt': 1000}"
      ]
     },
     "execution_count": 11,
     "metadata": {},
     "output_type": "execute_result"
    }
   ],
   "source": [
    "test_classcounts"
   ]
  },
  {
   "cell_type": "code",
   "execution_count": 14,
   "metadata": {},
   "outputs": [],
   "source": [
    "def getstats(dataset):\n",
    "    X=dataset[:,:-1]\n",
    "    row_means = X.mean()\n",
    "    row_stds = X.std()\n",
    "    return row_means,row_stds"
   ]
  },
  {
   "cell_type": "code",
   "execution_count": 15,
   "metadata": {},
   "outputs": [
    {
     "data": {
      "text/plain": [
       "(77.02673711734694, 89.9969501937854)"
      ]
     },
     "execution_count": 15,
     "metadata": {},
     "output_type": "execute_result"
    }
   ],
   "source": [
    "getstats(train)"
   ]
  }
 ],
 "metadata": {
  "kernelspec": {
   "display_name": "Python 3",
   "language": "python",
   "name": "python3"
  },
  "language_info": {
   "codemirror_mode": {
    "name": "ipython",
    "version": 3
   },
   "file_extension": ".py",
   "mimetype": "text/x-python",
   "name": "python",
   "nbconvert_exporter": "python",
   "pygments_lexer": "ipython3",
   "version": "3.11.4"
  }
 },
 "nbformat": 4,
 "nbformat_minor": 2
}
