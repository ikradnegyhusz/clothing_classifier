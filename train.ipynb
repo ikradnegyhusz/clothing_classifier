{
 "cells": [
  {
   "cell_type": "code",
   "execution_count": 2,
   "metadata": {},
   "outputs": [],
   "source": [
    "import pandas as pd\n",
    "import numpy as np\n",
    "from sklearn.decomposition import PCA\n",
    "from sklearn.preprocessing import StandardScaler\n",
    "from sklearn.neighbors import KNeighborsClassifier\n",
    "from sklearn import metrics\n",
    "from sklearn.neural_network import MLPClassifier\n",
    "from sklearn.model_selection import train_test_split"
   ]
  },
  {
   "cell_type": "code",
   "execution_count": 26,
   "metadata": {},
   "outputs": [],
   "source": [
    "model_type=\"knn\"\n",
    "pca_dims=5"
   ]
  },
  {
   "cell_type": "code",
   "execution_count": 32,
   "metadata": {},
   "outputs": [
    {
     "name": "stdout",
     "output_type": "stream",
     "text": [
      "Accuracy: 0.79356 +- 0.006465786881733724\n"
     ]
    }
   ],
   "source": [
    "def load_data(filename):\n",
    "    data = np.load(filename)\n",
    "    X=data[:,0:-1]\n",
    "    y=data[:,-1]\n",
    "    return X,y\n",
    "\n",
    "def standardize(image_data,axis=1):\n",
    "    # Compute mean and std along axis 1, assuming each image is a row\n",
    "    mean = np.mean(image_data, axis=axis, keepdims=True)\n",
    "    std = np.std(image_data, axis=axis, keepdims=True)\n",
    "    # Normalize each image\n",
    "    scaled_images = (image_data - mean) / std\n",
    "    return scaled_images\n",
    "\n",
    "def scale(image_data):\n",
    "    return standardize(image_data,axis=1)\n",
    "    return standardize(standardize(image_data,axis=1),axis=0)\n",
    "\n",
    "X, y = load_data(\"data/fashion_train.npy\")\n",
    "# train and test model in a loop\n",
    "n=10\n",
    "cms=[]\n",
    "accs=[]\n",
    "precs=[]\n",
    "recalls=[]\n",
    "for i in range(n):\n",
    "    X_train, X_test, y_train, y_test = train_test_split(X,y,test_size=0.25,stratify=y)\n",
    "    \n",
    "    #scale data\n",
    "    X_train_scaled=scale(X_train)\n",
    "\n",
    "    # perform PCA\n",
    "    pca = PCA(n_components=pca_dims,random_state=42)\n",
    "    pca.fit(X_train_scaled)\n",
    "    X_train_pca=pca.transform(X_train_scaled)\n",
    "\n",
    "    #fit model of choice\n",
    "    if model_type==\"knn\":\n",
    "        #create KNN\n",
    "        model=KNeighborsClassifier(n_neighbors=20)\n",
    "    elif model_type==\"mlp\":\n",
    "        #create MLP\n",
    "        model = MLPClassifier(solver='lbfgs', alpha=0.05,hidden_layer_sizes=(25,5, 2), random_state=1,max_iter=10_000)\n",
    "\n",
    "    model.fit(X_train_pca,y_train)\n",
    "\n",
    "    X_test_scaled=scale(X_test)\n",
    "    X_test_pca=pca.transform(X_test_scaled)\n",
    "\n",
    "    #create predictions with model\n",
    "    preds = model.predict(X_test_pca)\n",
    "    acc = metrics.accuracy_score(y_test,preds)\n",
    "    cm = metrics.confusion_matrix(y_test,preds)\n",
    "    prec=metrics.precision_score(y_test,preds,average=None)\n",
    "    recall=metrics.recall_score(y_test,preds,average=None)\n",
    "    \n",
    "    cms.append(cm)\n",
    "    accs.append(acc)\n",
    "    precs.append(prec)\n",
    "    recalls.append(recall)\n",
    "\n",
    "print(f\"Accuracy: {np.average(accs)} +- {np.std(accs)}\")"
   ]
  }
 ],
 "metadata": {
  "kernelspec": {
   "display_name": "Python 3",
   "language": "python",
   "name": "python3"
  },
  "language_info": {
   "codemirror_mode": {
    "name": "ipython",
    "version": 3
   },
   "file_extension": ".py",
   "mimetype": "text/x-python",
   "name": "python",
   "nbconvert_exporter": "python",
   "pygments_lexer": "ipython3",
   "version": "3.11.4"
  }
 },
 "nbformat": 4,
 "nbformat_minor": 2
}
