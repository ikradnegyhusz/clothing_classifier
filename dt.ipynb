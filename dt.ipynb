{
 "cells": [
  {
   "cell_type": "code",
   "execution_count": null,
   "metadata": {},
   "outputs": [],
   "source": [
    "import numpy as np\n",
    "from sklearn.model_selection import train_test_split\n",
    "import pickle"
   ]
  },
  {
   "cell_type": "code",
   "execution_count": 2,
   "metadata": {},
   "outputs": [],
   "source": [
    "def gini_impurity(y):\n",
    "    classes, counts = np.unique(y, return_counts=True)\n",
    "    prob = counts / counts.sum()\n",
    "    return 1 - np.sum(prob**2)\n",
    "\n",
    "def information_gain(y, y_left, y_right):\n",
    "    p_left = len(y_left) / len(y)\n",
    "    p_right = len(y_right) / len(y)\n",
    "    \n",
    "    return gini_impurity(y) - (p_left * gini_impurity(y_left) + p_right * gini_impurity(y_right))\n",
    "\n",
    "def split_data(X, y, feature, threshold):\n",
    "    left_idx = X[:, feature] <= threshold\n",
    "    right_idx = X[:, feature] > threshold\n",
    "    return X[left_idx], y[left_idx], X[right_idx], y[right_idx]\n",
    "\n",
    "class DecisionTree:\n",
    "    def __init__(self, max_depth=None, min_samples_split=2):\n",
    "        self.max_depth = max_depth\n",
    "        self.min_samples_split = min_samples_split\n",
    "        self.tree = None\n",
    "    \n",
    "    def fit(self, X, y):\n",
    "        self.tree = self._build_tree(X, y, depth=0)\n",
    "    \n",
    "    def _build_tree(self, X, y, depth):\n",
    "        n_samples, n_features = X.shape\n",
    "        #stopping conditions\n",
    "        if n_samples < self.min_samples_split or depth == self.max_depth or len(np.unique(y)) == 1:\n",
    "            if len(y)==len(set(y)):\n",
    "                cls_return = y[np.random.randint(0,len(y))]\n",
    "            else:\n",
    "                cls_return=np.argmax(np.bincount(y))\n",
    "\n",
    "            return {'type': 'leaf', 'class': cls_return}\n",
    "        \n",
    "        # splitting, finding best split with highest information gain\n",
    "        best_feature, best_threshold, best_gain = None, None, -np.inf\n",
    "        for feature in range(n_features):\n",
    "            thresholds = np.unique(X[:, feature])\n",
    "            for threshold in thresholds:\n",
    "                X_left, y_left, X_right, y_right = split_data(X, y, feature, threshold)\n",
    "                if len(y_left) == 0 or len(y_right) == 0:\n",
    "                    continue\n",
    "                gain = information_gain(y, y_left, y_right)\n",
    "                \n",
    "                if gain > best_gain:\n",
    "                    best_gain = gain\n",
    "                    best_feature = feature\n",
    "                    best_threshold = threshold\n",
    "        \n",
    "        if best_gain == -np.inf:\n",
    "            return {'type': 'leaf', 'class': np.argmax(np.bincount(y))}\n",
    "        \n",
    "        X_left, y_left, X_right, y_right = split_data(X, y, best_feature, best_threshold)\n",
    "        left_subtree = self._build_tree(X_left, y_left, depth + 1)\n",
    "        right_subtree = self._build_tree(X_right, y_right, depth + 1)\n",
    "        \n",
    "        return {\n",
    "            'type': 'node',\n",
    "            'feature': best_feature,\n",
    "            'threshold': best_threshold,\n",
    "            'left': left_subtree,\n",
    "            'right': right_subtree\n",
    "        }\n",
    "    \n",
    "    def predict(self, X):\n",
    "        return np.array([self._predict_one(x, self.tree) for x in X])\n",
    "    \n",
    "    def _predict_one(self, x, tree):\n",
    "        if tree['type'] == 'leaf':\n",
    "            return tree['class']\n",
    "        if x[tree['feature']] <= tree['threshold']:\n",
    "            return self._predict_one(x, tree['left'])\n",
    "        else:\n",
    "            return self._predict_one(x, tree['right'])\n"
   ]
  },
  {
   "cell_type": "code",
   "execution_count": null,
   "metadata": {},
   "outputs": [
    {
     "name": "stdout",
     "output_type": "stream",
     "text": [
      "[0 1 0 3 4 1 2 2 2 1 3 3 3 1 0 3 1 2 0 4 0 0 3 1 4 0 3 3 2 3 4 3 1 1 3 3 0\n",
      " 2 3 3 0 3 4 3 3 1 1 2 3 0 4 4 3 4 3 0 3 2 3 4 3 4 3 1 2 4 2 2 3 2 3 2 4 3\n",
      " 1 4 3 0 1 4 0 3 3 4 3 3 3 2 2 0 1 2 4 4 1 0 4 1 3 1]\n"
     ]
    }
   ],
   "source": [
    "train = np.load(\"fashion_train.npy\")\n",
    "X = train[:,:-1]\n",
    "y = train[:,-1]\n",
    "\n",
    "X_train, X_val, y_train, y_val = train_test_split(X,y,test_size=0.3,random_state=42,stratify=y)\n",
    "\n",
    "tree = DecisionTree(max_depth=3)\n",
    "tree.fit(X_train, y_train)\n",
    "\n",
    "predictions = tree.predict(X_val)\n",
    "\n",
    "pickle.dump(tree,open(\"model.pkl\",\"wb\"))\n",
    "pickle.dump(X_train,open(\"X_train.pkl\",\"wb\"))\n",
    "pickle.dump(y_train,open(\"y_train.pkl\",\"wb\"))\n",
    "pickle.dump(X_val,open(\"X_val.pkl\",\"wb\"))\n",
    "pickle.dump(y_val,open(\"y_val.pkl\",\"wb\"))\n",
    "pickle.dump(predictions,open(\"preds_on_y_val.pkl\",\"wb\"))"
   ]
  },
  {
   "cell_type": "code",
   "execution_count": 15,
   "metadata": {},
   "outputs": [
    {
     "data": {
      "text/plain": [
       "array([0, 1, 1, 1, 1, 1], dtype=int64)"
      ]
     },
     "execution_count": 15,
     "metadata": {},
     "output_type": "execute_result"
    }
   ],
   "source": [
    "np.bincount([1,2,3,4,5])"
   ]
  }
 ],
 "metadata": {
  "kernelspec": {
   "display_name": "Python 3",
   "language": "python",
   "name": "python3"
  },
  "language_info": {
   "codemirror_mode": {
    "name": "ipython",
    "version": 3
   },
   "file_extension": ".py",
   "mimetype": "text/x-python",
   "name": "python",
   "nbconvert_exporter": "python",
   "pygments_lexer": "ipython3",
   "version": "3.11.4"
  }
 },
 "nbformat": 4,
 "nbformat_minor": 2
}
