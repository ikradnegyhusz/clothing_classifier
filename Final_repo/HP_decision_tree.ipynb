{
 "cells": [
  {
   "cell_type": "code",
   "execution_count": 16,
   "metadata": {},
   "outputs": [],
   "source": [
    "import numpy as np\n",
    "import preprocessing as pre\n",
    "from decision_tree import DecisionTree\n",
    "import pandas as pd\n",
    "from sklearn.model_selection import train_test_split,GridSearchCV\n",
    "from sklearn.tree import DecisionTreeClassifier\n",
    "from sklearn.metrics import accuracy_score"
   ]
  },
  {
   "cell_type": "code",
   "execution_count": 10,
   "metadata": {},
   "outputs": [],
   "source": [
    "#load Training data\n",
    "\n",
    "X,y = pre.load_data(\"data/fashion_train.npy\")\n",
    "X_processed,pca = pre.preprocess(X)\n",
    "\n",
    "# split the data\n",
    "X_train, X_val, y_train, y_val = train_test_split(X_processed,y,stratify=y,test_size=0.3,random_state=42)"
   ]
  },
  {
   "cell_type": "markdown",
   "metadata": {},
   "source": [
    "# Find best hyperparameter"
   ]
  },
  {
   "cell_type": "code",
   "execution_count": 21,
   "metadata": {},
   "outputs": [
    {
     "name": "stdout",
     "output_type": "stream",
     "text": [
      "Fitting 5 folds for each of 21 candidates, totalling 105 fits\n",
      "Best Parameters: {'max_depth': 6, 'min_samples_split': 2}\n",
      "Accuracy: 0.778\n"
     ]
    }
   ],
   "source": [
    "# Create a Decision Tree classifier\n",
    "clf = DecisionTreeClassifier()\n",
    "\n",
    "# Define the parameter grid\n",
    "param_grid = {\n",
    "    'max_depth': [None, 2, 5, 6, 7, 8, 9],\n",
    "    'min_samples_split': [2, 3, 5]\n",
    "}\n",
    "\n",
    "# Perform Grid Search with Cross Validation\n",
    "grid_search = GridSearchCV(estimator=clf, param_grid=param_grid, cv=5, scoring='accuracy', verbose=1, n_jobs=-1)\n",
    "grid_search.fit(X_train, y_train)\n",
    "\n",
    "# Get the best parameters and best estimator\n",
    "best_params = grid_search.best_params_\n",
    "best_estimator = grid_search.best_estimator_\n",
    "\n",
    "print(\"Best Parameters:\", best_params)\n",
    "\n",
    "# Evaluate the model with best parameters\n",
    "y_pred = best_estimator.predict(X_test)\n",
    "accuracy = accuracy_score(y_test, y_pred)\n",
    "print(\"Accuracy:\", accuracy)\n"
   ]
  },
  {
   "cell_type": "markdown",
   "metadata": {},
   "source": [
    "# Make final model with best parameter"
   ]
  },
  {
   "cell_type": "code",
   "execution_count": null,
   "metadata": {},
   "outputs": [],
   "source": [
    "model = DecisionTree(max_depth=6,min_samples_split=2)\n",
    "model.fit(X_train,y_train)"
   ]
  },
  {
   "cell_type": "markdown",
   "metadata": {},
   "source": [
    "# Compute the accuracy and std"
   ]
  },
  {
   "cell_type": "code",
   "execution_count": 178,
   "metadata": {},
   "outputs": [
    {
     "name": "stdout",
     "output_type": "stream",
     "text": [
      "accuracy: 77.86% ± 1.27%\n"
     ]
    }
   ],
   "source": [
    "df = np.load('../data/fashion_test.npy')\n",
    "\n",
    "df = pre.preprocess(df)\n",
    "\n",
    "model = pickle.load(open('models/model_decision_tree.pkl', 'rb'))\n",
    "\n",
    "df = pd.DataFrame(df)\n",
    "\n",
    "acc_list = []\n",
    "\n",
    "for x in range(0, 1000):\n",
    "    sample = df.sample(1000, replace=True)\n",
    "    X = sample.iloc[:,:-1].to_numpy()\n",
    "    y = sample.iloc[:,-1].to_numpy()\n",
    "    preds = model.predict(X)\n",
    "    accuracy = np.sum(preds == y) / len(y)\n",
    "    acc_list.append(accuracy)\n",
    "\n",
    "print(f'accuracy: {round(np.mean(acc_list)*100, 2)}% ± {round(np.std(acc_list)*100, 2)}%')"
   ]
  },
  {
   "cell_type": "markdown",
   "metadata": {},
   "source": [
    "# Compare with sklearn Decision tree"
   ]
  },
  {
   "cell_type": "markdown",
   "metadata": {},
   "source": [
    "# Train"
   ]
  },
  {
   "cell_type": "code",
   "execution_count": 183,
   "metadata": {},
   "outputs": [
    {
     "name": "stdout",
     "output_type": "stream",
     "text": [
      "Accuracy: 77.27%\n"
     ]
    }
   ],
   "source": [
    "from sklearn.tree import DecisionTreeClassifier\n",
    "\n",
    "df = np.load('../data/fashion_train.npy') \n",
    "\n",
    "df = pre.preprocess(df)\n",
    "\n",
    "X_train = df[:7000,:-1]\n",
    "y_train = df[:7000,-1]\n",
    "X_test = df[7000:,:-1]\n",
    "y_test = df[7000:,-1]\n",
    "\n",
    "sklearn_dt = DecisionTreeClassifier(max_depth=9, min_samples_split=2, criterion='gini', random_state=42)\n",
    "sklearn_dt.fit(X_train, y_train)\n",
    "\n",
    "pred = sklearn_dt.predict(X_test)\n",
    "\n",
    "acc = np.sum(pred == y_test) / len(y_test)\n",
    "\n",
    "print(f'Accuracy: {acc*100:.2f}%')\n"
   ]
  },
  {
   "cell_type": "markdown",
   "metadata": {},
   "source": [
    "# Compute the accuracy and std for sklearn model"
   ]
  },
  {
   "cell_type": "code",
   "execution_count": 184,
   "metadata": {},
   "outputs": [
    {
     "name": "stdout",
     "output_type": "stream",
     "text": [
      "accuracy: 76.05% ± 1.36%\n"
     ]
    }
   ],
   "source": [
    "df = np.load('../data/fashion_test.npy')\n",
    "\n",
    "df = pre.preprocess(df)\n",
    "\n",
    "model = sklearn_dt\n",
    "\n",
    "df = pd.DataFrame(df)\n",
    "\n",
    "acc_list = []\n",
    "\n",
    "for x in range(0, 1000):\n",
    "    sample = df.sample(1000, replace=True)\n",
    "    X = sample.iloc[:,:-1].to_numpy()\n",
    "    y = sample.iloc[:,-1].to_numpy()\n",
    "    preds = model.predict(X)\n",
    "    accuracy = np.sum(preds == y) / len(y)\n",
    "    acc_list.append(accuracy)\n",
    "\n",
    "print(f'accuracy: {round(np.mean(acc_list)*100, 2)}% ± {round(np.std(acc_list)*100, 2)}%')"
   ]
  }
 ],
 "metadata": {
  "kernelspec": {
   "display_name": "Python 3",
   "language": "python",
   "name": "python3"
  },
  "language_info": {
   "codemirror_mode": {
    "name": "ipython",
    "version": 3
   },
   "file_extension": ".py",
   "mimetype": "text/x-python",
   "name": "python",
   "nbconvert_exporter": "python",
   "pygments_lexer": "ipython3",
   "version": "3.11.4"
  }
 },
 "nbformat": 4,
 "nbformat_minor": 2
}
