{
 "cells": [
  {
   "cell_type": "code",
   "execution_count": 1,
   "metadata": {},
   "outputs": [],
   "source": [
    "import numpy as np\n",
    "import preprocessing as pre\n",
    "from decision_tree import DecisionTree\n",
    "import pandas as pd"
   ]
  },
  {
   "cell_type": "code",
   "execution_count": 2,
   "metadata": {},
   "outputs": [],
   "source": [
    "#load Training data\n",
    "df = np.load('../data/fashion_train.npy') \n",
    "\n",
    "df = pre.preprocess(df)\n",
    "\n",
    "X_train = df[:7000,:-1]\n",
    "y_train = df[:7000,-1]\n",
    "X_test = df[7000:,:-1]\n",
    "y_test = df[7000:,-1]\n",
    "\n"
   ]
  },
  {
   "cell_type": "markdown",
   "metadata": {},
   "source": [
    "# Find best hyperparameter"
   ]
  },
  {
   "cell_type": "code",
   "execution_count": 3,
   "metadata": {},
   "outputs": [
    {
     "name": "stdout",
     "output_type": "stream",
     "text": [
      "Accuracy: 71.53%\n",
      "Accuracy: 76.67%\n",
      "Accuracy: 76.70%\n",
      "Accuracy: 77.00%\n",
      "Accuracy: 76.73%\n"
     ]
    }
   ],
   "source": [
    "depths = [3, 5, 7, 9, 12]\n",
    "\n",
    "best_HP = {\n",
    "\n",
    "}\n",
    "\n",
    "for depth in depths:\n",
    "    dt = DecisionTree(max_depth=depth, min_samples_split=2)\n",
    "    dt.fit(X_train, y_train)\n",
    "    pred = dt.predict(X_test)\n",
    "    acc = np.sum(pred == y_test) / len(y_test)\n",
    "    print(f'Accuracy: {acc*100:.2f}%')\n",
    "    best_HP[acc] = depth\n"
   ]
  },
  {
   "cell_type": "code",
   "execution_count": 4,
   "metadata": {},
   "outputs": [
    {
     "name": "stdout",
     "output_type": "stream",
     "text": [
      "Best depth: 9\n"
     ]
    }
   ],
   "source": [
    "best_hp = best_HP[max(best_HP.keys())]\n",
    "print(f'Best depth: {best_hp}')"
   ]
  },
  {
   "cell_type": "markdown",
   "metadata": {},
   "source": [
    "# best depth\n",
    "- it was 9\n"
   ]
  },
  {
   "cell_type": "markdown",
   "metadata": {},
   "source": [
    "# Make final model with best parameter"
   ]
  },
  {
   "cell_type": "code",
   "execution_count": 5,
   "metadata": {},
   "outputs": [],
   "source": [
    "#make final model\n",
    "df = np.load('../data/fashion_train.npy') \n",
    "\n",
    "df = pre.preprocess(df)\n",
    "\n",
    "X_train = df[:,:-1]\n",
    "y_train = df[:,-1]\n",
    "\n",
    "\n",
    "dt = DecisionTree(max_depth=9, min_samples_split=2)\n",
    "dt.fit(X_train, y_train)"
   ]
  },
  {
   "cell_type": "code",
   "execution_count": 6,
   "metadata": {},
   "outputs": [
    {
     "name": "stdout",
     "output_type": "stream",
     "text": [
      "Accuracy: 77.78%\n"
     ]
    }
   ],
   "source": [
    "#load test data\n",
    "df = np.load('../data/fashion_test.npy')\n",
    "\n",
    "df = pre.preprocess(df)\n",
    "\n",
    "x = df[:,:-1]\n",
    "y = df[:,-1]\n",
    "\n",
    "pred = dt.predict(x)\n",
    "\n",
    "acc = np.sum(pred == y) / len(y)\n",
    "\n",
    "print(f'Accuracy: {acc*100:.2f}%')"
   ]
  },
  {
   "cell_type": "code",
   "execution_count": 7,
   "metadata": {},
   "outputs": [],
   "source": [
    "import pickle\n",
    "\n",
    "with open('./models/decision_tree_model.pkl', 'wb') as f:\n",
    "    pickle.dump(dt, f)"
   ]
  },
  {
   "cell_type": "markdown",
   "metadata": {},
   "source": [
    "# Compute the accuracy and std"
   ]
  },
  {
   "cell_type": "code",
   "execution_count": 8,
   "metadata": {},
   "outputs": [
    {
     "name": "stdout",
     "output_type": "stream",
     "text": [
      "accuracy: 77.75% ± 1.32%\n"
     ]
    }
   ],
   "source": [
    "df = np.load('../data/fashion_test.npy')\n",
    "\n",
    "df = pre.preprocess(df)\n",
    "\n",
    "model = pickle.load(open('models/decision_tree_model.pkl', 'rb'))\n",
    "\n",
    "df = pd.DataFrame(df)\n",
    "\n",
    "acc_list = []\n",
    "\n",
    "for x in range(0, 1000):\n",
    "    sample = df.sample(1000, replace=True)\n",
    "    X = sample.iloc[:,:-1].to_numpy()\n",
    "    y = sample.iloc[:,-1].to_numpy()\n",
    "    preds = model.predict(X)\n",
    "    accuracy = np.sum(preds == y) / len(y)\n",
    "    acc_list.append(accuracy)\n",
    "\n",
    "print(f'accuracy: {round(np.mean(acc_list)*100, 2)}% ± {round(np.std(acc_list)*100, 2)}%')"
   ]
  },
  {
   "cell_type": "markdown",
   "metadata": {},
   "source": [
    "# Compare with sklearn Decision tree"
   ]
  },
  {
   "cell_type": "markdown",
   "metadata": {},
   "source": [
    "# Train"
   ]
  },
  {
   "cell_type": "code",
   "execution_count": 9,
   "metadata": {},
   "outputs": [
    {
     "name": "stdout",
     "output_type": "stream",
     "text": [
      "Accuracy: 76.63%\n"
     ]
    }
   ],
   "source": [
    "from sklearn.tree import DecisionTreeClassifier\n",
    "\n",
    "df = np.load('../data/fashion_train.npy') \n",
    "\n",
    "df = pre.preprocess(df)\n",
    "\n",
    "X_train = df[:7000,:-1]\n",
    "y_train = df[:7000,-1]\n",
    "X_test = df[7000:,:-1]\n",
    "y_test = df[7000:,-1]\n",
    "\n",
    "sklearn_dt = DecisionTreeClassifier(max_depth=9, min_samples_split=2, criterion='gini', random_state=42)\n",
    "sklearn_dt.fit(X_train, y_train)\n",
    "\n",
    "pred = sklearn_dt.predict(X_test)\n",
    "\n",
    "acc = np.sum(pred == y_test) / len(y_test)\n",
    "\n",
    "print(f'Accuracy: {acc*100:.2f}%')\n"
   ]
  },
  {
   "cell_type": "markdown",
   "metadata": {},
   "source": [
    "# Compute the accuracy and std for sklearn model"
   ]
  },
  {
   "cell_type": "code",
   "execution_count": 10,
   "metadata": {},
   "outputs": [
    {
     "name": "stdout",
     "output_type": "stream",
     "text": [
      "accuracy: 75.96% ± 1.31%\n"
     ]
    }
   ],
   "source": [
    "df = np.load('../data/fashion_test.npy')\n",
    "\n",
    "df = pre.preprocess(df)\n",
    "\n",
    "model = sklearn_dt\n",
    "\n",
    "df = pd.DataFrame(df)\n",
    "\n",
    "acc_list = []\n",
    "\n",
    "for x in range(0, 1000):\n",
    "    sample = df.sample(1000, replace=True)\n",
    "    X = sample.iloc[:,:-1].to_numpy()\n",
    "    y = sample.iloc[:,-1].to_numpy()\n",
    "    preds = model.predict(X)\n",
    "    accuracy = np.sum(preds == y) / len(y)\n",
    "    acc_list.append(accuracy)\n",
    "\n",
    "print(f'accuracy: {round(np.mean(acc_list)*100, 2)}% ± {round(np.std(acc_list)*100, 2)}%')"
   ]
  }
 ],
 "metadata": {
  "kernelspec": {
   "display_name": "my_project_env",
   "language": "python",
   "name": "python3"
  },
  "language_info": {
   "codemirror_mode": {
    "name": "ipython",
    "version": 3
   },
   "file_extension": ".py",
   "mimetype": "text/x-python",
   "name": "python",
   "nbconvert_exporter": "python",
   "pygments_lexer": "ipython3",
   "version": "3.11.10"
  }
 },
 "nbformat": 4,
 "nbformat_minor": 2
}
