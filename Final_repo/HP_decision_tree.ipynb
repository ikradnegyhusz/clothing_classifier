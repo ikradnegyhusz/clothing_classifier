{
 "cells": [
  {
   "cell_type": "code",
   "execution_count": 1,
   "metadata": {},
   "outputs": [],
   "source": [
    "import numpy as np\n",
    "import preprocessing as pre\n",
    "from decision_tree import DecisionTree\n",
    "from sklearn.model_selection import train_test_split\n",
    "import pandas as pd"
   ]
  },
  {
   "cell_type": "code",
   "execution_count": 15,
   "metadata": {},
   "outputs": [],
   "source": [
    "x, y = pre.load_data('../data/fashion_train.npy')\n",
    "\n",
    "x_processed, pca = pre.preprocess(x)\n",
    "\n",
    "X_train, X_test, y_train, y_test = train_test_split(x_processed, y, test_size=0.2, random_state=42, stratify=y)\n"
   ]
  },
  {
   "cell_type": "code",
   "execution_count": 16,
   "metadata": {},
   "outputs": [],
   "source": [
    "import pickle\n",
    "\n",
    "\n",
    "with open('./models/pca_65.pkl', 'wb') as f:\n",
    "    pickle.dump(pca, f)"
   ]
  },
  {
   "cell_type": "markdown",
   "metadata": {},
   "source": [
    "# Find best hyperparameter"
   ]
  },
  {
   "cell_type": "code",
   "execution_count": 7,
   "metadata": {},
   "outputs": [
    {
     "name": "stdout",
     "output_type": "stream",
     "text": [
      "The best parameters are {'max_depth': 7, 'min_samples_split': 5} with a score of 0.7814\n"
     ]
    }
   ],
   "source": [
    "#grindsearch\n",
    "\n",
    "from sklearn.model_selection import GridSearchCV, StratifiedShuffleSplit\n",
    "from sklearn.tree import DecisionTreeClassifier\n",
    "\n",
    "max_depth = [3, 5, 7, 9, 11]\n",
    "\n",
    "min_samples_split = [2, 3, 4, 5]\n",
    "\n",
    "\n",
    "param_grid = dict(max_depth=max_depth, min_samples_split=min_samples_split)\n",
    "cv = StratifiedShuffleSplit(n_splits=5, test_size=0.2, random_state=42)\n",
    "grid = GridSearchCV(DecisionTreeClassifier(), param_grid=param_grid, cv=cv)\n",
    "grid.fit(X_train, y_train)\n",
    "\n",
    "print(\n",
    "    \"The best parameters are %s with a score of %0.4f\"\n",
    "    % (grid.best_params_, grid.best_score_)\n",
    ")\n",
    "\n",
    "\n",
    "\n"
   ]
  },
  {
   "cell_type": "markdown",
   "metadata": {},
   "source": [
    "# Make final model with best parameter"
   ]
  },
  {
   "cell_type": "code",
   "execution_count": 13,
   "metadata": {},
   "outputs": [],
   "source": [
    "dt = DecisionTree(max_depth=7, min_samples_split=5)\n",
    "dt.fit(X_train, y_train)"
   ]
  },
  {
   "cell_type": "code",
   "execution_count": 4,
   "metadata": {},
   "outputs": [
    {
     "name": "stdout",
     "output_type": "stream",
     "text": [
      "Accuracy: 78.55%\n"
     ]
    }
   ],
   "source": [
    "#load test data\n",
    "\n",
    "pred = dt.predict(X_test)\n",
    "\n",
    "acc = np.sum(pred == y_test) / len(y_test)\n",
    "\n",
    "print(f'Accuracy: {acc*100:.2f}%')"
   ]
  },
  {
   "cell_type": "code",
   "execution_count": 5,
   "metadata": {},
   "outputs": [],
   "source": [
    "import pickle\n",
    "\n",
    "with open('./models/decision_tree_model.pkl', 'wb') as f:\n",
    "    pickle.dump(dt, f)"
   ]
  },
  {
   "cell_type": "markdown",
   "metadata": {},
   "source": [
    "# Compute the accuracy and std"
   ]
  },
  {
   "cell_type": "code",
   "execution_count": 19,
   "metadata": {},
   "outputs": [
    {
     "name": "stdout",
     "output_type": "stream",
     "text": [
      "accuracy: 76.93% ± 1.33%\n"
     ]
    }
   ],
   "source": [
    "x, y = pre.load_data('../data/fashion_test.npy')\n",
    "\n",
    "pca_65 = pickle.load(open('./models/pca_65.pkl', 'rb'))\n",
    "\n",
    "x_processed = pre.preprocess(x, pca=pca_65)\n",
    "\n",
    "model = pickle.load(open('models/decision_tree_model.pkl', 'rb'))\n",
    "\n",
    "df = pd.DataFrame(x_processed)\n",
    "df['y'] = y\n",
    "\n",
    "acc_list = []\n",
    "\n",
    "for x in range(0, 1000):\n",
    "    sample = df.sample(1000, replace=True)\n",
    "    X = sample.iloc[:,:-1].to_numpy()\n",
    "    y = sample.iloc[:,-1].to_numpy()\n",
    "    preds = model.predict(X)\n",
    "    accuracy = np.sum(preds == y) / len(y)\n",
    "    acc_list.append(accuracy)\n",
    "\n",
    "print(f'accuracy: {round(np.mean(acc_list)*100, 2)}% ± {round(np.std(acc_list)*100, 2)}%')"
   ]
  },
  {
   "cell_type": "markdown",
   "metadata": {},
   "source": [
    "# Compare with sklearn Decision tree"
   ]
  },
  {
   "cell_type": "markdown",
   "metadata": {},
   "source": [
    "# Train"
   ]
  },
  {
   "cell_type": "code",
   "execution_count": 20,
   "metadata": {},
   "outputs": [
    {
     "name": "stdout",
     "output_type": "stream",
     "text": [
      "Accuracy: 78.50%\n"
     ]
    }
   ],
   "source": [
    "from sklearn.tree import DecisionTreeClassifier\n",
    "\n",
    "\n",
    "\n",
    "sklearn_dt = DecisionTreeClassifier(max_depth=7, min_samples_split=5, criterion='gini', random_state=42)\n",
    "sklearn_dt.fit(X_train, y_train)\n",
    "\n",
    "pred = sklearn_dt.predict(X_test)\n",
    "\n",
    "acc = np.sum(pred == y_test) / len(y_test)\n",
    "\n",
    "print(f'Accuracy: {acc*100:.2f}%')\n"
   ]
  },
  {
   "cell_type": "markdown",
   "metadata": {},
   "source": [
    "# Compute the accuracy and std for sklearn model"
   ]
  },
  {
   "cell_type": "code",
   "execution_count": 21,
   "metadata": {},
   "outputs": [
    {
     "name": "stdout",
     "output_type": "stream",
     "text": [
      "accuracy: 77.03% ± 1.32%\n"
     ]
    }
   ],
   "source": [
    "x, y = pre.load_data('../data/fashion_test.npy')\n",
    "\n",
    "pca_65 = pickle.load(open('./models/pca_65.pkl', 'rb'))\n",
    "\n",
    "x_processed = pre.preprocess(x, pca=pca_65)\n",
    "\n",
    "model = sklearn_dt\n",
    "\n",
    "df = pd.DataFrame(df)\n",
    "df['y'] = y\n",
    "\n",
    "acc_list = []\n",
    "\n",
    "for x in range(0, 1000):\n",
    "    sample = df.sample(1000, replace=True)\n",
    "    X = sample.iloc[:,:-1].to_numpy()\n",
    "    y = sample.iloc[:,-1].to_numpy()\n",
    "    preds = model.predict(X)\n",
    "    accuracy = np.sum(preds == y) / len(y)\n",
    "    acc_list.append(accuracy)\n",
    "\n",
    "print(f'accuracy: {round(np.mean(acc_list)*100, 2)}% ± {round(np.std(acc_list)*100, 2)}%')"
   ]
  }
 ],
 "metadata": {
  "kernelspec": {
   "display_name": "my_project_env",
   "language": "python",
   "name": "python3"
  },
  "language_info": {
   "codemirror_mode": {
    "name": "ipython",
    "version": 3
   },
   "file_extension": ".py",
   "mimetype": "text/x-python",
   "name": "python",
   "nbconvert_exporter": "python",
   "pygments_lexer": "ipython3",
   "version": "3.11.10"
  }
 },
 "nbformat": 4,
 "nbformat_minor": 2
}
