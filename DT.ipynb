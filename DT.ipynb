{
 "cells": [
  {
   "cell_type": "code",
   "execution_count": 295,
   "metadata": {},
   "outputs": [],
   "source": [
    "import numpy as np\n",
    "import pandas as pd\n",
    "from IPython.display import clear_output"
   ]
  },
  {
   "cell_type": "code",
   "execution_count": 296,
   "metadata": {},
   "outputs": [
    {
     "data": {
      "text/plain": [
       "(100, 785)"
      ]
     },
     "execution_count": 296,
     "metadata": {},
     "output_type": "execute_result"
    }
   ],
   "source": [
    "df = np.load('fashion_train.npy')\n",
    "\n",
    "num_rows = 100\n",
    "\n",
    "x = df[:num_rows,:-1]\n",
    "y = df[:num_rows,:][:,-1]\n",
    "\n",
    "x = np.hstack((x,y.reshape(-1, 1)))\n",
    "\n",
    "df = x\n",
    "\n",
    "K_classes = np.unique(df[:, -1])\n",
    "\n",
    "df.shape\n"
   ]
  },
  {
   "cell_type": "code",
   "execution_count": 297,
   "metadata": {},
   "outputs": [],
   "source": [
    "def gini_impurity(y, K_classes):\n",
    "    if len(y) == 0:\n",
    "        return 0\n",
    "    s = 0\n",
    "    for i in K_classes:\n",
    "        p = np.sum(y == i) / len(y)\n",
    "        s += p**2\n",
    "    return 1-s\n",
    "\n",
    "def PL_weight(N_L_or_R, N_u):\n",
    "    '''\n",
    "    N_L - number of elements in the left split\n",
    "    N_u - number of elements in the node split\n",
    "    N_R - number of elements in the right split\n",
    "    '''\n",
    "    return N_L_or_R / N_u\n",
    "\n",
    "def calculate_depth(tree):\n",
    "    # If the tree list is empty, depth is 0\n",
    "    if not tree:\n",
    "        return 0\n",
    "    # Calculate depth using the formula\n",
    "    return math.floor(math.log2(len(tree))) + 1\n",
    "\n",
    "def max_depth(tree):\n",
    "    if not tree:\n",
    "        return 0\n",
    "    return 2**tree - 1\n",
    "\n",
    "class tree:\n",
    "    def __init__(self, df, K_classes):\n",
    "        higest_info_gain = [0, 0, 0]\n",
    "\n",
    "        for row in range(1,len(df)):\n",
    "            clear_output(wait=True)\n",
    "            for col in range(1,len(df[0])-1):\n",
    "                right = df[df[:, col] >= df[row, col]][:, -1]\n",
    "                left = df[df[:, col] < df[row, col]][:, -1]\n",
    "\n",
    "                gini_right = gini_impurity(right, K_classes) \n",
    "                gini_left = gini_impurity(left, K_classes)\n",
    "\n",
    "                w_right = PL_weight(len(right), len(df))\n",
    "                w_left = PL_weight(len(left), len(df))\n",
    "\n",
    "                gini_combined_weigthed = w_right * gini_right + w_left * gini_left\n",
    "\n",
    "                info_gain = gini_impurity(df[:, -1], K_classes) - gini_combined_weigthed\n",
    "\n",
    "                if info_gain > higest_info_gain[0]:\n",
    "                    higest_info_gain = [info_gain, row, col, gini_combined_weigthed]\n",
    "            print(f'{row/len(df)*100}%')\n",
    "\n",
    "        best_row, best_col = higest_info_gain[1], higest_info_gain[2]\n",
    "        threshold = df[best_row, best_col]\n",
    "\n",
    "\n",
    "        right_split = df[df[:, best_col] >= threshold]\n",
    "        left_split = df[df[:, best_col] < threshold]\n",
    "\n",
    "\n",
    "        self.matrix = df\n",
    "        self.threshold = threshold\n",
    "        self.right_split = right_split\n",
    "        self.left_split = left_split\n",
    "        self.info_gain = higest_info_gain[0]\n",
    "        self.gini_combined_weigthed = higest_info_gain[2]\n",
    "\n",
    "class DT:\n",
    "    def __init__(self, df, K_classes, depth):\n",
    "        self.df = df\n",
    "        self.K_classes = K_classes\n",
    "        self.dt = []\n",
    "        i = 0\n",
    "        while len(self.dt) <= max_depth(depth):\n",
    "            if len(self.dt) < 3:\n",
    "                root = tree(df, K_classes)\n",
    "                right = tree(root.right_split, K_classes)\n",
    "                left = tree(root.left_split, K_classes)\n",
    "                if (root.info_gain == 0):\n",
    "                    break\n",
    "                self.dt.append(root)\n",
    "                if (right.info_gain == 0):\n",
    "                    break\n",
    "                self.dt.append(right)\n",
    "                if (left.info_gain == 0):\n",
    "                    break\n",
    "                self.dt.append(left)\n",
    "            else:\n",
    "                root = tree(self.dt[i].right_split, K_classes)\n",
    "                right = tree(root.right_split, K_classes)\n",
    "                left = tree(root.left_split, K_classes)\n",
    "                if (root.info_gain == 0):\n",
    "                    break\n",
    "                self.dt.append(root)\n",
    "                if (right.info_gain == 0):\n",
    "                    break\n",
    "                self.dt.append(right)\n",
    "                \n",
    "                if (left.info_gain == 0):\n",
    "                    break\n",
    "                self.dt.append(left)\n",
    "            i += 1"
   ]
  },
  {
   "cell_type": "code",
   "execution_count": 298,
   "metadata": {},
   "outputs": [
    {
     "name": "stdout",
     "output_type": "stream",
     "text": [
      "90.0%\n",
      "0.14461426024955437 (66, 785) (34, 785) False\n",
      "0.21107950271482673 (23, 785) (11, 785) False\n",
      "0.21648301193755737 (22, 785) (44, 785) False\n",
      "0.16528925619834722 (1, 785) (10, 785) False\n"
     ]
    }
   ],
   "source": [
    "DT_test = DT(df, K_classes,10)\n",
    "for i in range(len(DT_test.dt)):\n",
    "    print(DT_test.dt[i].info_gain, DT_test.dt[i].left_split.shape, DT_test.dt[i].right_split.shape, (DT_test.dt[i].info_gain == 0) )"
   ]
  }
 ],
 "metadata": {
  "kernelspec": {
   "display_name": "my_project_env",
   "language": "python",
   "name": "python3"
  },
  "language_info": {
   "codemirror_mode": {
    "name": "ipython",
    "version": 3
   },
   "file_extension": ".py",
   "mimetype": "text/x-python",
   "name": "python",
   "nbconvert_exporter": "python",
   "pygments_lexer": "ipython3",
   "version": "3.11.10"
  }
 },
 "nbformat": 4,
 "nbformat_minor": 2
}
