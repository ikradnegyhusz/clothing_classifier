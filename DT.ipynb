{
 "cells": [
  {
   "cell_type": "code",
   "execution_count": 2,
   "metadata": {},
   "outputs": [],
   "source": [
    "import numpy as np\n",
    "import pandas as pd"
   ]
  },
  {
   "cell_type": "code",
   "execution_count": 3,
   "metadata": {},
   "outputs": [],
   "source": [
    "train = np.load('fashion_train.npy') "
   ]
  },
  {
   "cell_type": "code",
   "execution_count": 12,
   "metadata": {},
   "outputs": [
    {
     "data": {
      "text/plain": [
       "785"
      ]
     },
     "execution_count": 12,
     "metadata": {},
     "output_type": "execute_result"
    }
   ],
   "source": [
    "train.shape[1]"
   ]
  },
  {
   "cell_type": "code",
   "execution_count": 14,
   "metadata": {},
   "outputs": [],
   "source": [
    "y = train[:, -1]\n",
    "X = train[:, :-1]"
   ]
  },
  {
   "cell_type": "code",
   "execution_count": 16,
   "metadata": {},
   "outputs": [
    {
     "data": {
      "text/plain": [
       "(10000, 784)"
      ]
     },
     "execution_count": 16,
     "metadata": {},
     "output_type": "execute_result"
    }
   ],
   "source": [
    "X.shape"
   ]
  },
  {
   "cell_type": "code",
   "execution_count": 17,
   "metadata": {},
   "outputs": [
    {
     "data": {
      "text/plain": [
       "array([0, 1, 2, 3, 4], dtype=uint8)"
      ]
     },
     "execution_count": 17,
     "metadata": {},
     "output_type": "execute_result"
    }
   ],
   "source": [
    "np.unique(y)"
   ]
  },
  {
   "cell_type": "code",
   "execution_count": 32,
   "metadata": {},
   "outputs": [],
   "source": [
    "def gini_impurity(y):\n",
    "    all_classes = np.unique(y)\n",
    "    s = 0\n",
    "    for i in all_classes:\n",
    "        p = np.sum(y == i) / len(y)\n",
    "        s += p**2\n",
    "    return 1-s\n",
    "\n"
   ]
  },
  {
   "cell_type": "code",
   "execution_count": 47,
   "metadata": {},
   "outputs": [
    {
     "name": "stdout",
     "output_type": "stream",
     "text": [
      "0\n",
      "1\n",
      "2\n",
      "3\n",
      "4\n",
      "5\n",
      "6\n",
      "7\n",
      "8\n",
      "9\n",
      "10\n",
      "11\n",
      "12\n",
      "13\n"
     ]
    },
    {
     "ename": "KeyboardInterrupt",
     "evalue": "",
     "output_type": "error",
     "traceback": [
      "\u001b[0;31m---------------------------------------------------------------------------\u001b[0m",
      "\u001b[0;31mKeyboardInterrupt\u001b[0m                         Traceback (most recent call last)",
      "Cell \u001b[0;32mIn[47], line 11\u001b[0m\n\u001b[1;32m      9\u001b[0m \u001b[38;5;28;01mfor\u001b[39;00m i \u001b[38;5;129;01min\u001b[39;00m \u001b[38;5;28mrange\u001b[39m(matrix\u001b[38;5;241m.\u001b[39mshape[\u001b[38;5;241m0\u001b[39m]\u001b[38;5;241m-\u001b[39m\u001b[38;5;241m1\u001b[39m):\n\u001b[1;32m     10\u001b[0m     split1 \u001b[38;5;241m=\u001b[39m matrix[matrix[:, j] \u001b[38;5;241m>\u001b[39m\u001b[38;5;241m=\u001b[39m matrix[i, j]]\n\u001b[0;32m---> 11\u001b[0m     gini1\u001b[38;5;241m=\u001b[39mgini_impurity(split1[:, \u001b[38;5;241m-\u001b[39m\u001b[38;5;241m1\u001b[39m])\n\u001b[1;32m     12\u001b[0m     split2 \u001b[38;5;241m=\u001b[39m matrix[matrix[:, j] \u001b[38;5;241m<\u001b[39m matrix[i, j]]\n\u001b[1;32m     13\u001b[0m     gini2\u001b[38;5;241m=\u001b[39mgini_impurity(split2[:, \u001b[38;5;241m-\u001b[39m\u001b[38;5;241m1\u001b[39m])\n",
      "Cell \u001b[0;32mIn[32], line 1\u001b[0m, in \u001b[0;36mgini_impurity\u001b[0;34m(y)\u001b[0m\n\u001b[0;32m----> 1\u001b[0m \u001b[38;5;28;01mdef\u001b[39;00m \u001b[38;5;21mgini_impurity\u001b[39m(y):\n\u001b[1;32m      2\u001b[0m     all_classes \u001b[38;5;241m=\u001b[39m np\u001b[38;5;241m.\u001b[39munique(y)\n\u001b[1;32m      3\u001b[0m     s \u001b[38;5;241m=\u001b[39m \u001b[38;5;241m0\u001b[39m\n",
      "\u001b[0;31mKeyboardInterrupt\u001b[0m: "
     ]
    }
   ],
   "source": [
    "matrix = train\n",
    "\n",
    "temp_gini = 1000000\n",
    "temp_i = 0\n",
    "temp_j = 0\n",
    "\n",
    "for j in range(matrix.shape[1]-1):\n",
    "    \n",
    "    for i in range(matrix.shape[0]-1):\n",
    "        split1 = matrix[matrix[:, j] >= matrix[i, j]]\n",
    "        gini1=gini_impurity(split1[:, -1])\n",
    "        split2 = matrix[matrix[:, j] < matrix[i, j]]\n",
    "        gini2=gini_impurity(split2[:, -1])\n",
    "        weight1 = len(split1) / len(matrix)\n",
    "        weight2 = len(split2) / len(matrix)\n",
    "        gini = weight1 * gini1 + weight2 * gini2\n",
    "        if gini < temp_gini:\n",
    "            temp_gini = gini\n",
    "            temp_i = i\n",
    "            temp_j = j\n",
    "    print(j)"
   ]
  },
  {
   "cell_type": "code",
   "execution_count": 51,
   "metadata": {},
   "outputs": [
    {
     "name": "stdout",
     "output_type": "stream",
     "text": [
      "73 11 0.7665375667271068\n"
     ]
    }
   ],
   "source": [
    "\n",
    "print(temp_i, temp_j, temp_gini)\n"
   ]
  },
  {
   "cell_type": "code",
   "execution_count": 45,
   "metadata": {},
   "outputs": [
    {
     "data": {
      "text/plain": [
       "array([[0, 0, 0, ..., 0, 0, 0],\n",
       "       [0, 0, 0, ..., 0, 0, 1],\n",
       "       [0, 0, 0, ..., 0, 0, 0],\n",
       "       ...,\n",
       "       [0, 0, 0, ..., 0, 0, 3],\n",
       "       [0, 0, 0, ..., 0, 0, 0],\n",
       "       [0, 0, 0, ..., 0, 0, 1]], dtype=uint8)"
      ]
     },
     "execution_count": 45,
     "metadata": {},
     "output_type": "execute_result"
    }
   ],
   "source": [
    "matrix = train\n",
    "\n",
    "matrix[matrix[:, 0] >= matrix[0, 0]]"
   ]
  },
  {
   "cell_type": "code",
   "execution_count": 42,
   "metadata": {},
   "outputs": [
    {
     "data": {
      "text/plain": [
       "array([[  0,   0,   0,   0,   0,   3,   0,   0,   0,  41,  92, 172, 100,\n",
       "         23,  22,  33, 104, 136,  93,  44,   0,   0,   0,   2,   0,   0,\n",
       "          0,   0,   0,   0,   0,   0,   2,   0,   6, 119, 166, 177, 159,\n",
       "        153, 227, 232, 215, 240, 227, 156, 162, 180, 175, 102,   0,   0,\n",
       "          0,   0,   0,   0,   0,   0,   0,   2,   0,  16, 166, 143, 133,\n",
       "        126, 134, 121, 102, 146, 171, 160, 106, 113, 130, 130, 136, 151,\n",
       "        159,   0,   0,   1,   0,   0,   0,   0,   0,   1,   0, 105, 139,\n",
       "        123, 130, 129, 133, 133, 134, 116, 108, 113, 129, 135, 136, 131,\n",
       "        128, 126, 150,  77,   0,   2,   0,   0,   0,   0,   0,   0,   2,\n",
       "        151, 128, 126, 129, 130, 131, 130, 129, 131, 135, 134, 130, 130,\n",
       "        131, 130, 130, 130, 139, 138,   0,   0,   0,   0,   0,   0,   0,\n",
       "          0,  44, 148, 129, 126, 130, 133, 129, 129, 130, 130, 129, 129,\n",
       "        130, 129, 131, 130, 131, 125, 146, 165,   2,   0,   0,   0,   0,\n",
       "          0,   0,   0,  93, 156, 148, 124, 126, 126, 128, 128, 129, 129,\n",
       "        129, 129, 129, 128, 131, 125, 145, 141, 153, 156,  36,   0,   0,\n",
       "          0,   0,   0,   0,   0, 134, 150, 169, 136, 123, 130, 129, 129,\n",
       "        133, 133, 130, 131, 130, 134, 135, 120, 157, 143, 156, 157,  78,\n",
       "          0,   0,   0,   0,   0,   0,   0, 155, 140, 176, 174, 103, 138,\n",
       "        130, 131, 130, 130, 134, 131, 131, 130, 148, 113, 179, 181, 155,\n",
       "        148, 121,   0,   0,   0,   0,   0,   0,  36, 160, 143, 179, 221,\n",
       "        113, 129, 134, 133, 135, 134, 135, 131, 141, 133, 146,  98, 202,\n",
       "        216, 150, 145, 155,   0,   0,   0,   0,   0,   0,  87, 138, 139,\n",
       "        169, 243, 121, 126, 133, 133, 140, 134, 130, 134, 136, 141, 139,\n",
       "         97, 213, 223, 143, 136, 143,   7,   0,   0,   0,   0,   0, 118,\n",
       "        165, 161, 191, 255, 150, 115, 135, 130, 143, 134, 130, 139, 126,\n",
       "        156, 138,  97, 223, 247, 160, 153, 159,  54,   0,   0,   0,   0,\n",
       "          0,   0,  14,  49,  70,  89, 131, 130, 130, 126, 146, 140, 133,\n",
       "        139, 129, 153, 149, 104, 189, 130,  92,  83,  46,   0,   0,   0,\n",
       "          0,   0,   0,   0,   0,   0,   0,   0, 146, 131, 126, 129, 144,\n",
       "        139, 128, 135, 134, 140, 162, 116, 150,   0,   0,   0,   0,   0,\n",
       "          0,   0,   0,   0,   0,   1,   2,   2,   0,   4, 148, 129, 124,\n",
       "        131, 143, 144, 134, 136, 140, 126, 169, 126, 145,   0,   0,   2,\n",
       "          3,   1,   0,   0,   0,   0,   0,   0,   0,   2,   0,   9, 153,\n",
       "        126, 124, 131, 144, 148, 136, 134, 145, 124, 162, 136, 134,   0,\n",
       "          0,   1,   0,   0,   0,   0,   0,   0,   0,   0,   0,   2,   0,\n",
       "         17, 153, 125, 124, 130, 141, 149, 144, 130, 141, 126, 150, 140,\n",
       "        130,   0,   0,   1,   1,   0,   0,   0,   0,   0,   0,   1,   1,\n",
       "          3,   0,  18, 151, 119, 125, 131, 141, 151, 146, 129, 141, 130,\n",
       "        135, 146, 125,   0,   0,   1,   0,   0,   0,   0,   0,   0,   0,\n",
       "          0,   1,   3,   0,  23, 156, 113, 124, 131, 139, 153, 150, 128,\n",
       "        140, 136, 125, 141, 128,   0,   0,   0,   0,   0,   0,   0,   0,\n",
       "          0,   0,   0,   0,   2,   0,  29, 151, 118, 128, 134, 141, 151,\n",
       "        161, 130, 134, 141, 128, 139, 126,   0,   0,   0,   1,   0,   0,\n",
       "          0,   0,   0,   0,   0,   0,   2,   0,  31, 149, 109, 125, 133,\n",
       "        135, 150, 166, 131, 130, 145, 125, 135, 135,   0,   0,   1,   0,\n",
       "          0,   0,   0,   0,   0,   0,   0,   0,   2,   0,  28, 148, 109,\n",
       "        125, 135, 133, 149, 167, 133, 130, 136, 133, 130, 135,   0,   0,\n",
       "          2,   0,   0,   0,   0,   0,   0,   0,   0,   0,   2,   0,  31,\n",
       "        143, 108, 126, 136, 130, 155, 181, 133, 131, 130, 135, 126, 141,\n",
       "          0,   0,   1,   0,   0,   0,   0,   0,   0,   0,   0,   0,   3,\n",
       "          0,  39, 149, 114, 129, 133, 129, 153, 187, 134, 138, 126, 134,\n",
       "        128, 141,   3,   0,   1,   0,   0,   0,   0,   0,   0,   0,   0,\n",
       "          0,   3,   0,  38, 126, 116, 129, 134, 130, 151, 195, 138, 140,\n",
       "        133, 134, 130, 139,   9,   0,   2,   0,   0,   0,   0,   0,   0,\n",
       "          0,   0,   0,   3,   0,  46, 126, 113, 126, 128, 130, 134, 182,\n",
       "        148, 125, 128, 128, 129, 123,  14,   0,   2,   0,   0,   0,   0,\n",
       "          0,   0,   0,   0,   0,   2,   0,  92, 134, 131, 156, 160, 160,\n",
       "        154, 230, 191, 156, 161, 156, 134, 167,  38,   0,   2,   0,   0,\n",
       "          0,   0,   0,   0,   0,   0,   1,   1,   0,  27,  53,  48,  48,\n",
       "         54,  51,  36,  63,  59,  58,  62,  64,  63,  78,  11,   0,   2,\n",
       "          0,   0,   0,   0,   0]], dtype=uint8)"
      ]
     },
     "execution_count": 42,
     "metadata": {},
     "output_type": "execute_result"
    }
   ],
   "source": [
    "matrix[: 1]"
   ]
  },
  {
   "cell_type": "code",
   "execution_count": 22,
   "metadata": {},
   "outputs": [],
   "source": [
    "j = 0\n",
    "i = 0\n",
    "test = X[:, j] > X[i, j]"
   ]
  },
  {
   "cell_type": "code",
   "execution_count": 25,
   "metadata": {},
   "outputs": [],
   "source": [
    "matrix = train\n",
    "colunm_index = 0\n",
    "condition_value = 0\n",
    "\n",
    "\n",
    "finted_row = matrix[matrix[: colunm_index] > condition_value]"
   ]
  },
  {
   "cell_type": "code",
   "execution_count": null,
   "metadata": {},
   "outputs": [
    {
     "name": "stdout",
     "output_type": "stream",
     "text": [
      "Best Gini: 0.6532301649304489\n",
      "Best split at row: 1782 column: 546\n"
     ]
    }
   ],
   "source": [
    "import numpy as np\n",
    "\n",
    "def gini_impurity(counts, total):\n",
    "    \"\"\"\n",
    "    Computes Gini impurity from class counts and total elements.\n",
    "    \"\"\"\n",
    "    s = sum( (count / total)**2 for count in counts)\n",
    "    return 1 - s\n",
    "\n",
    "def best_split(matrix):\n",
    "    temp_gini = float(\"inf\")\n",
    "    temp_i = None\n",
    "    temp_j = None\n",
    "    \n",
    "    # Iterate over each feature\n",
    "    for j in range(matrix.shape[1] - 1):\n",
    "        # Sort rows by the feature column `j`\n",
    "        sorted_matrix = matrix[matrix[:, j].argsort()]\n",
    "        y_sorted = sorted_matrix[:, -1]\n",
    "        \n",
    "        # Track class counts for split\n",
    "        left_class_counts = np.zeros(len(np.unique(y_sorted)))\n",
    "        right_class_counts = np.bincount(y_sorted.astype(int))\n",
    "        total = len(y_sorted)\n",
    "        \n",
    "        for i in range(1, total):\n",
    "            cls = int(y_sorted[i - 1])\n",
    "            left_class_counts[cls] += 1\n",
    "            right_class_counts[cls] -= 1\n",
    "\n",
    "            # Skip duplicate feature values to avoid redundant splits\n",
    "            if sorted_matrix[i, j] == sorted_matrix[i - 1, j]:\n",
    "                continue\n",
    "\n",
    "            # Calculate Gini for left and right splits\n",
    "            weight_left = i / total\n",
    "            weight_right = 1 - weight_left\n",
    "            gini_left = gini_impurity(left_class_counts, i)\n",
    "            gini_right = gini_impurity(right_class_counts, total - i)\n",
    "            gini = weight_left * gini_left + weight_right * gini_right\n",
    "\n",
    "            # Update the best split if current Gini is lower\n",
    "            if gini < temp_gini:\n",
    "                temp_gini = gini\n",
    "                temp_i = i\n",
    "                temp_j = j\n",
    "\n",
    "    return temp_gini, temp_i, temp_j\n",
    "\n",
    "# Example usage\n",
    "best_gini, best_i, best_j = best_split(train)\n",
    "print(\"Best Gini:\", best_gini)\n",
    "print(\"Best split at row:\", best_i, \"column:\", best_j)\n"
   ]
  }
 ],
 "metadata": {
  "kernelspec": {
   "display_name": "my_project_env",
   "language": "python",
   "name": "python3"
  },
  "language_info": {
   "codemirror_mode": {
    "name": "ipython",
    "version": 3
   },
   "file_extension": ".py",
   "mimetype": "text/x-python",
   "name": "python",
   "nbconvert_exporter": "python",
   "pygments_lexer": "ipython3",
   "version": "3.11.10"
  }
 },
 "nbformat": 4,
 "nbformat_minor": 2
}
